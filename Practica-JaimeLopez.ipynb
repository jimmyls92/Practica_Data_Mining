{
 "cells": [
  {
   "cell_type": "markdown",
   "metadata": {},
   "source": [
    "Vasmos a cargar el dataset de AirBnB descargado de [aquí](https://public.opendatasoft.com/explore/dataset/airbnb-listings/export/?disjunctive.host_verifications&disjunctive.amenities&disjunctive.features&q=Madrid&dataChart=eyJxdWVyaWVzIjpbeyJjaGFydHMiOlt7InR5cGUiOiJjb2x1bW4iLCJmdW5jIjoiQ09VTlQiLCJ5QXhpcyI6Imhvc3RfbGlzdGluZ3NfY291bnQiLCJzY2llbnRpZmljRGlzcGxheSI6dHJ1ZSwiY29sb3IiOiJyYW5nZS1jdXN0b20ifV0sInhBeGlzIjoiY2l0eSIsIm1heHBvaW50cyI6IiIsInRpbWVzY2FsZSI6IiIsInNvcnQiOiIiLCJzZXJpZXNCcmVha2Rvd24iOiJyb29tX3R5cGUiLCJjb25maWciOnsiZGF0YXNldCI6ImFpcmJuYi1saXN0aW5ncyIsIm9wdGlvbnMiOnsiZGlzanVuY3RpdmUuaG9zdF92ZXJpZmljYXRpb25zIjp0cnVlLCJkaXNqdW5jdGl2ZS5hbWVuaXRpZXMiOnRydWUsImRpc2p1bmN0aXZlLmZlYXR1cmVzIjp0cnVlfX19XSwidGltZXNjYWxlIjoiIiwiZGlzcGxheUxlZ2VuZCI6dHJ1ZSwiYWxpZ25Nb250aCI6dHJ1ZX0%3D&location=16,41.38377,2.15774&basemap=jawg.streets)\n",
    "\n",
    "![](descargar.png)"
   ]
  },
  {
   "cell_type": "code",
   "execution_count": 1,
   "metadata": {},
   "outputs": [],
   "source": [
    "airbnb<-read.csv('airbnb-listings.csv',sep = ';', stringsAsFactors = T)\n",
    "options(repr.plot.height=4,repr.plot.width=6,repr.plot.res = 300)"
   ]
  },
  {
   "cell_type": "markdown",
   "metadata": {},
   "source": [
    "Vamos a quedarnos con las columnas de mayor interés:\n",
    "\n",
    "'City','Room.Type','Neighbourhood','Accommodates','Bathrooms','Bedrooms','Beds','Price','Square.Feet','Guests.Included','Extra.People','Review.Scores.Rating','Latitude', 'Longitude'"
   ]
  },
  {
   "cell_type": "code",
   "execution_count": 2,
   "metadata": {},
   "outputs": [
    {
     "name": "stderr",
     "output_type": "stream",
     "text": [
      "Registered S3 methods overwritten by 'ggplot2':\n",
      "  method         from \n",
      "  [.quosures     rlang\n",
      "  c.quosures     rlang\n",
      "  print.quosures rlang\n",
      "Registered S3 method overwritten by 'rvest':\n",
      "  method            from\n",
      "  read_xml.response xml2\n",
      "-- Attaching packages --------------------------------------- tidyverse 1.2.1 --\n",
      "v ggplot2 3.1.1       v purrr   0.3.2  \n",
      "v tibble  2.1.1       v dplyr   0.8.0.1\n",
      "v tidyr   0.8.3       v stringr 1.4.0  \n",
      "v readr   1.3.1       v forcats 0.4.0  \n",
      "-- Conflicts ------------------------------------------ tidyverse_conflicts() --\n",
      "x dplyr::filter() masks stats::filter()\n",
      "x dplyr::lag()    masks stats::lag()\n"
     ]
    }
   ],
   "source": [
    "library(tidyverse)"
   ]
  },
  {
   "cell_type": "code",
   "execution_count": 3,
   "metadata": {},
   "outputs": [],
   "source": [
    "airbnb_filter <- select(airbnb, c('City','Room.Type','Neighbourhood','Accommodates','Bathrooms','Bedrooms','Beds','Price','Square.Feet','Guests.Included','Extra.People','Review.Scores.Rating','Latitude', 'Longitude'))"
   ]
  },
  {
   "cell_type": "code",
   "execution_count": 4,
   "metadata": {},
   "outputs": [
    {
     "data": {
      "text/html": [
       "<table>\n",
       "<thead><tr><th scope=col>City</th><th scope=col>Room.Type</th><th scope=col>Neighbourhood</th><th scope=col>Accommodates</th><th scope=col>Bathrooms</th><th scope=col>Bedrooms</th><th scope=col>Beds</th><th scope=col>Price</th><th scope=col>Square.Feet</th><th scope=col>Guests.Included</th><th scope=col>Extra.People</th><th scope=col>Review.Scores.Rating</th><th scope=col>Latitude</th><th scope=col>Longitude</th></tr></thead>\n",
       "<tbody>\n",
       "\t<tr><td>London                    </td><td>Entire home/apt           </td><td>                          </td><td>1                         </td><td>1.0                       </td><td>1                         </td><td>1                         </td><td> 50                       </td><td> NA                       </td><td>1                         </td><td>20                        </td><td>90                        </td><td>51.49247                  </td><td>-0.1886284                </td></tr>\n",
       "\t<tr><td>London                    </td><td>Entire home/apt           </td><td>LB of Richmond upon Thames</td><td>8                         </td><td>2.5                       </td><td>5                         </td><td>5                         </td><td>175                       </td><td> NA                       </td><td>6                         </td><td>25                        </td><td>87                        </td><td>51.48200                  </td><td>-0.2392775                </td></tr>\n",
       "\t<tr><td>London                    </td><td>Entire home/apt           </td><td>                          </td><td>2                         </td><td>1.0                       </td><td>1                         </td><td>1                         </td><td>155                       </td><td> NA                       </td><td>1                         </td><td> 0                        </td><td>NA                        </td><td>51.51579                  </td><td>-0.1363321                </td></tr>\n",
       "\t<tr><td>Madrid                    </td><td>Private room              </td><td>Palacio                   </td><td>2                         </td><td>1.0                       </td><td>1                         </td><td>1                         </td><td> 36                       </td><td> NA                       </td><td>1                         </td><td> 0                        </td><td>98                        </td><td>40.41011                  </td><td>-3.7147540                </td></tr>\n",
       "\t<tr><td>Madrid                    </td><td>Entire home/apt           </td><td>Palacio                   </td><td>2                         </td><td>1.0                       </td><td>1                         </td><td>1                         </td><td> 85                       </td><td> NA                       </td><td>1                         </td><td> 0                        </td><td>95                        </td><td>40.41697                  </td><td>-3.7094389                </td></tr>\n",
       "\t<tr><td>Madrid                    </td><td>Private room              </td><td>La Latina                 </td><td>2                         </td><td>1.0                       </td><td>1                         </td><td>1                         </td><td> 20                       </td><td>861                       </td><td>1                         </td><td>10                        </td><td>91                        </td><td>40.40971                  </td><td>-3.7135612                </td></tr>\n",
       "\t<tr><td>Madrid                    </td><td>Entire home/apt           </td><td>MalasaÃ±a                 </td><td>4                         </td><td>1.0                       </td><td>1                         </td><td>2                         </td><td>112                       </td><td> NA                       </td><td>2                         </td><td> 5                        </td><td>99                        </td><td>40.42319                  </td><td>-3.7112487                </td></tr>\n",
       "\t<tr><td>Madrid                    </td><td>Entire home/apt           </td><td>Palacio                   </td><td>8                         </td><td>3.0                       </td><td>3                         </td><td>4                         </td><td>190                       </td><td> NA                       </td><td>6                         </td><td>40                        </td><td>96                        </td><td>40.41651                  </td><td>-3.7178428                </td></tr>\n",
       "\t<tr><td>Madrid                    </td><td>Private room              </td><td>Palacio                   </td><td>2                         </td><td>2.0                       </td><td>1                         </td><td>1                         </td><td> 30                       </td><td> NA                       </td><td>1                         </td><td> 5                        </td><td>67                        </td><td>40.41683                  </td><td>-3.7102398                </td></tr>\n",
       "\t<tr><td>Madrid                    </td><td>Private room              </td><td>Embajadores               </td><td>1                         </td><td>1.0                       </td><td>1                         </td><td>1                         </td><td> 18                       </td><td> NA                       </td><td>1                         </td><td> 0                        </td><td>NA                        </td><td>40.41395                  </td><td>-3.7056375                </td></tr>\n",
       "</tbody>\n",
       "</table>\n"
      ],
      "text/latex": [
       "\\begin{tabular}{r|llllllllllllll}\n",
       " City & Room.Type & Neighbourhood & Accommodates & Bathrooms & Bedrooms & Beds & Price & Square.Feet & Guests.Included & Extra.People & Review.Scores.Rating & Latitude & Longitude\\\\\n",
       "\\hline\n",
       "\t London                     & Entire home/apt            &                            & 1                          & 1.0                        & 1                          & 1                          &  50                        &  NA                        & 1                          & 20                         & 90                         & 51.49247                   & -0.1886284                \\\\\n",
       "\t London                     & Entire home/apt            & LB of Richmond upon Thames & 8                          & 2.5                        & 5                          & 5                          & 175                        &  NA                        & 6                          & 25                         & 87                         & 51.48200                   & -0.2392775                \\\\\n",
       "\t London                     & Entire home/apt            &                            & 2                          & 1.0                        & 1                          & 1                          & 155                        &  NA                        & 1                          &  0                         & NA                         & 51.51579                   & -0.1363321                \\\\\n",
       "\t Madrid                     & Private room               & Palacio                    & 2                          & 1.0                        & 1                          & 1                          &  36                        &  NA                        & 1                          &  0                         & 98                         & 40.41011                   & -3.7147540                \\\\\n",
       "\t Madrid                     & Entire home/apt            & Palacio                    & 2                          & 1.0                        & 1                          & 1                          &  85                        &  NA                        & 1                          &  0                         & 95                         & 40.41697                   & -3.7094389                \\\\\n",
       "\t Madrid                     & Private room               & La Latina                  & 2                          & 1.0                        & 1                          & 1                          &  20                        & 861                        & 1                          & 10                         & 91                         & 40.40971                   & -3.7135612                \\\\\n",
       "\t Madrid                     & Entire home/apt            & MalasaÃ±a                  & 4                          & 1.0                        & 1                          & 2                          & 112                        &  NA                        & 2                          &  5                         & 99                         & 40.42319                   & -3.7112487                \\\\\n",
       "\t Madrid                     & Entire home/apt            & Palacio                    & 8                          & 3.0                        & 3                          & 4                          & 190                        &  NA                        & 6                          & 40                         & 96                         & 40.41651                   & -3.7178428                \\\\\n",
       "\t Madrid                     & Private room               & Palacio                    & 2                          & 2.0                        & 1                          & 1                          &  30                        &  NA                        & 1                          &  5                         & 67                         & 40.41683                   & -3.7102398                \\\\\n",
       "\t Madrid                     & Private room               & Embajadores                & 1                          & 1.0                        & 1                          & 1                          &  18                        &  NA                        & 1                          &  0                         & NA                         & 40.41395                   & -3.7056375                \\\\\n",
       "\\end{tabular}\n"
      ],
      "text/markdown": [
       "\n",
       "| City | Room.Type | Neighbourhood | Accommodates | Bathrooms | Bedrooms | Beds | Price | Square.Feet | Guests.Included | Extra.People | Review.Scores.Rating | Latitude | Longitude |\n",
       "|---|---|---|---|---|---|---|---|---|---|---|---|---|---|\n",
       "| London                     | Entire home/apt            |                            | 1                          | 1.0                        | 1                          | 1                          |  50                        |  NA                        | 1                          | 20                         | 90                         | 51.49247                   | -0.1886284                 |\n",
       "| London                     | Entire home/apt            | LB of Richmond upon Thames | 8                          | 2.5                        | 5                          | 5                          | 175                        |  NA                        | 6                          | 25                         | 87                         | 51.48200                   | -0.2392775                 |\n",
       "| London                     | Entire home/apt            |                            | 2                          | 1.0                        | 1                          | 1                          | 155                        |  NA                        | 1                          |  0                         | NA                         | 51.51579                   | -0.1363321                 |\n",
       "| Madrid                     | Private room               | Palacio                    | 2                          | 1.0                        | 1                          | 1                          |  36                        |  NA                        | 1                          |  0                         | 98                         | 40.41011                   | -3.7147540                 |\n",
       "| Madrid                     | Entire home/apt            | Palacio                    | 2                          | 1.0                        | 1                          | 1                          |  85                        |  NA                        | 1                          |  0                         | 95                         | 40.41697                   | -3.7094389                 |\n",
       "| Madrid                     | Private room               | La Latina                  | 2                          | 1.0                        | 1                          | 1                          |  20                        | 861                        | 1                          | 10                         | 91                         | 40.40971                   | -3.7135612                 |\n",
       "| Madrid                     | Entire home/apt            | MalasaÃ±a                  | 4                          | 1.0                        | 1                          | 2                          | 112                        |  NA                        | 2                          |  5                         | 99                         | 40.42319                   | -3.7112487                 |\n",
       "| Madrid                     | Entire home/apt            | Palacio                    | 8                          | 3.0                        | 3                          | 4                          | 190                        |  NA                        | 6                          | 40                         | 96                         | 40.41651                   | -3.7178428                 |\n",
       "| Madrid                     | Private room               | Palacio                    | 2                          | 2.0                        | 1                          | 1                          |  30                        |  NA                        | 1                          |  5                         | 67                         | 40.41683                   | -3.7102398                 |\n",
       "| Madrid                     | Private room               | Embajadores                | 1                          | 1.0                        | 1                          | 1                          |  18                        |  NA                        | 1                          |  0                         | NA                         | 40.41395                   | -3.7056375                 |\n",
       "\n"
      ],
      "text/plain": [
       "   City   Room.Type       Neighbourhood              Accommodates Bathrooms\n",
       "1  London Entire home/apt                            1            1.0      \n",
       "2  London Entire home/apt LB of Richmond upon Thames 8            2.5      \n",
       "3  London Entire home/apt                            2            1.0      \n",
       "4  Madrid Private room    Palacio                    2            1.0      \n",
       "5  Madrid Entire home/apt Palacio                    2            1.0      \n",
       "6  Madrid Private room    La Latina                  2            1.0      \n",
       "7  Madrid Entire home/apt MalasaÃ±a                  4            1.0      \n",
       "8  Madrid Entire home/apt Palacio                    8            3.0      \n",
       "9  Madrid Private room    Palacio                    2            2.0      \n",
       "10 Madrid Private room    Embajadores                1            1.0      \n",
       "   Bedrooms Beds Price Square.Feet Guests.Included Extra.People\n",
       "1  1        1     50    NA         1               20          \n",
       "2  5        5    175    NA         6               25          \n",
       "3  1        1    155    NA         1                0          \n",
       "4  1        1     36    NA         1                0          \n",
       "5  1        1     85    NA         1                0          \n",
       "6  1        1     20   861         1               10          \n",
       "7  1        2    112    NA         2                5          \n",
       "8  3        4    190    NA         6               40          \n",
       "9  1        1     30    NA         1                5          \n",
       "10 1        1     18    NA         1                0          \n",
       "   Review.Scores.Rating Latitude Longitude \n",
       "1  90                   51.49247 -0.1886284\n",
       "2  87                   51.48200 -0.2392775\n",
       "3  NA                   51.51579 -0.1363321\n",
       "4  98                   40.41011 -3.7147540\n",
       "5  95                   40.41697 -3.7094389\n",
       "6  91                   40.40971 -3.7135612\n",
       "7  99                   40.42319 -3.7112487\n",
       "8  96                   40.41651 -3.7178428\n",
       "9  67                   40.41683 -3.7102398\n",
       "10 NA                   40.41395 -3.7056375"
      ]
     },
     "metadata": {},
     "output_type": "display_data"
    },
    {
     "data": {
      "text/plain": [
       "        City                 Room.Type        Neighbourhood   Accommodates   \n",
       " Madrid   :13207   Entire home/apt:8976              :5229   Min.   : 1.000  \n",
       " Barcelona:  292   Private room   :5595   MalasaÃ±a  : 895   1st Qu.: 2.000  \n",
       " London   :  132   Shared room    : 209   La Latina  : 810   Median : 3.000  \n",
       " Paris    :  108                          Embajadores: 795   Mean   : 3.278  \n",
       " é©¬å¾·é‡Œ:   52                          Sol        : 716   3rd Qu.: 4.000  \n",
       " Palma    :   49                          Justicia   : 559   Max.   :16.000  \n",
       " (Other)  :  940                          (Other)    :5776                   \n",
       "   Bathrooms        Bedrooms           Beds            Price       \n",
       " Min.   :0.000   Min.   : 0.000   Min.   : 1.000   Min.   :  9.00  \n",
       " 1st Qu.:1.000   1st Qu.: 1.000   1st Qu.: 1.000   1st Qu.: 34.00  \n",
       " Median :1.000   Median : 1.000   Median : 2.000   Median : 55.00  \n",
       " Mean   :1.282   Mean   : 1.344   Mean   : 2.044   Mean   : 73.56  \n",
       " 3rd Qu.:1.000   3rd Qu.: 2.000   3rd Qu.: 2.000   3rd Qu.: 86.00  \n",
       " Max.   :8.000   Max.   :10.000   Max.   :16.000   Max.   :999.00  \n",
       " NA's   :55      NA's   :25       NA's   :49       NA's   :17      \n",
       "  Square.Feet     Guests.Included  Extra.People     Review.Scores.Rating\n",
       " Min.   :   0.0   Min.   : 0.00   Min.   :  0.000   Min.   : 20.0       \n",
       " 1st Qu.:   0.0   1st Qu.: 1.00   1st Qu.:  0.000   1st Qu.: 89.0       \n",
       " Median :  98.5   Median : 1.00   Median :  0.000   Median : 94.0       \n",
       " Mean   : 390.5   Mean   : 1.59   Mean   :  7.691   Mean   : 91.7       \n",
       " 3rd Qu.: 646.0   3rd Qu.: 2.00   3rd Qu.: 15.000   3rd Qu.: 98.0       \n",
       " Max.   :6997.0   Max.   :16.00   Max.   :500.000   Max.   :100.0       \n",
       " NA's   :14182                                      NA's   :3304        \n",
       "    Latitude        Longitude       \n",
       " Min.   :-37.85   Min.   :-123.131  \n",
       " 1st Qu.: 40.41   1st Qu.:  -3.708  \n",
       " Median : 40.42   Median :  -3.701  \n",
       " Mean   : 40.50   Mean   :  -3.858  \n",
       " 3rd Qu.: 40.43   3rd Qu.:  -3.684  \n",
       " Max.   : 55.97   Max.   : 153.371  \n",
       "                                    "
      ]
     },
     "metadata": {},
     "output_type": "display_data"
    }
   ],
   "source": [
    "head(airbnb_filter, n=10)\n",
    "summary(airbnb_filter)"
   ]
  },
  {
   "cell_type": "markdown",
   "metadata": {},
   "source": [
    "Nos quedarmos solo con las entradas de Madrid para Room.Type==\"Entire home/apt\" y cuyo barrio (Neighbourhood) no está vacio ''\n",
    "Podemos eliminar las siguientes columnas que ya no son necesarias:\n",
    "\"Room.Type\",'City'\n",
    "\n",
    "Llama a nuevo dataframe df_madrid."
   ]
  },
  {
   "cell_type": "code",
   "execution_count": 5,
   "metadata": {},
   "outputs": [],
   "source": [
    "df_madrid = airbnb_filter %>% filter(airbnb_filter$Room.Type==\"Entire home/apt\")\n",
    "df_madrid = df_madrid %>% filter(df_madrid$City==\"Madrid\")\n",
    "df_madrid = df_madrid %>% filter(df_madrid$Neighbourhood!=\"\")\n",
    "borrar <- c(\"City\",\"Room.Type\")\n",
    "df_madrid <- df_madrid[ , !(names(df_madrid) %in% borrar)]"
   ]
  },
  {
   "cell_type": "code",
   "execution_count": 6,
   "metadata": {},
   "outputs": [
    {
     "data": {
      "text/html": [
       "<table>\n",
       "<thead><tr><th scope=col>Neighbourhood</th><th scope=col>Accommodates</th><th scope=col>Bathrooms</th><th scope=col>Bedrooms</th><th scope=col>Beds</th><th scope=col>Price</th><th scope=col>Square.Feet</th><th scope=col>Guests.Included</th><th scope=col>Extra.People</th><th scope=col>Review.Scores.Rating</th><th scope=col>Latitude</th><th scope=col>Longitude</th></tr></thead>\n",
       "<tbody>\n",
       "\t<tr><td>Palacio    </td><td>2          </td><td> 1         </td><td>1          </td><td> 1         </td><td> 85        </td><td>NA         </td><td>1          </td><td> 0         </td><td> 95        </td><td>40.41697   </td><td>-3.709439  </td></tr>\n",
       "\t<tr><td>MalasaÃ±a  </td><td>4          </td><td> 1         </td><td>1          </td><td> 2         </td><td>112        </td><td>NA         </td><td>2          </td><td> 5         </td><td> 99        </td><td>40.42319   </td><td>-3.711249  </td></tr>\n",
       "\t<tr><td>Palacio    </td><td>8          </td><td> 3         </td><td>3          </td><td> 4         </td><td>190        </td><td>NA         </td><td>6          </td><td>40         </td><td> 96        </td><td>40.41651   </td><td>-3.717843  </td></tr>\n",
       "\t<tr><td>La Latina  </td><td>2          </td><td> 1         </td><td>1          </td><td> 1         </td><td> 71        </td><td>NA         </td><td>1          </td><td> 0         </td><td> 90        </td><td>40.41200   </td><td>-3.706691  </td></tr>\n",
       "\t<tr><td>Embajadores</td><td>2          </td><td>NA         </td><td>1          </td><td>NA         </td><td> 34        </td><td>NA         </td><td>1          </td><td> 6         </td><td> 88        </td><td>40.40809   </td><td>-3.700322  </td></tr>\n",
       "\t<tr><td>Embajadores</td><td>3          </td><td> 1         </td><td>0          </td><td> 2         </td><td> 60        </td><td>NA         </td><td>1          </td><td> 0         </td><td>100        </td><td>40.41085   </td><td>-3.701099  </td></tr>\n",
       "</tbody>\n",
       "</table>\n"
      ],
      "text/latex": [
       "\\begin{tabular}{r|llllllllllll}\n",
       " Neighbourhood & Accommodates & Bathrooms & Bedrooms & Beds & Price & Square.Feet & Guests.Included & Extra.People & Review.Scores.Rating & Latitude & Longitude\\\\\n",
       "\\hline\n",
       "\t Palacio     & 2           &  1          & 1           &  1          &  85         & NA          & 1           &  0          &  95         & 40.41697    & -3.709439  \\\\\n",
       "\t MalasaÃ±a   & 4           &  1          & 1           &  2          & 112         & NA          & 2           &  5          &  99         & 40.42319    & -3.711249  \\\\\n",
       "\t Palacio     & 8           &  3          & 3           &  4          & 190         & NA          & 6           & 40          &  96         & 40.41651    & -3.717843  \\\\\n",
       "\t La Latina   & 2           &  1          & 1           &  1          &  71         & NA          & 1           &  0          &  90         & 40.41200    & -3.706691  \\\\\n",
       "\t Embajadores & 2           & NA          & 1           & NA          &  34         & NA          & 1           &  6          &  88         & 40.40809    & -3.700322  \\\\\n",
       "\t Embajadores & 3           &  1          & 0           &  2          &  60         & NA          & 1           &  0          & 100         & 40.41085    & -3.701099  \\\\\n",
       "\\end{tabular}\n"
      ],
      "text/markdown": [
       "\n",
       "| Neighbourhood | Accommodates | Bathrooms | Bedrooms | Beds | Price | Square.Feet | Guests.Included | Extra.People | Review.Scores.Rating | Latitude | Longitude |\n",
       "|---|---|---|---|---|---|---|---|---|---|---|---|\n",
       "| Palacio     | 2           |  1          | 1           |  1          |  85         | NA          | 1           |  0          |  95         | 40.41697    | -3.709439   |\n",
       "| MalasaÃ±a   | 4           |  1          | 1           |  2          | 112         | NA          | 2           |  5          |  99         | 40.42319    | -3.711249   |\n",
       "| Palacio     | 8           |  3          | 3           |  4          | 190         | NA          | 6           | 40          |  96         | 40.41651    | -3.717843   |\n",
       "| La Latina   | 2           |  1          | 1           |  1          |  71         | NA          | 1           |  0          |  90         | 40.41200    | -3.706691   |\n",
       "| Embajadores | 2           | NA          | 1           | NA          |  34         | NA          | 1           |  6          |  88         | 40.40809    | -3.700322   |\n",
       "| Embajadores | 3           |  1          | 0           |  2          |  60         | NA          | 1           |  0          | 100         | 40.41085    | -3.701099   |\n",
       "\n"
      ],
      "text/plain": [
       "  Neighbourhood Accommodates Bathrooms Bedrooms Beds Price Square.Feet\n",
       "1 Palacio       2             1        1         1    85   NA         \n",
       "2 MalasaÃ±a     4             1        1         2   112   NA         \n",
       "3 Palacio       8             3        3         4   190   NA         \n",
       "4 La Latina     2             1        1         1    71   NA         \n",
       "5 Embajadores   2            NA        1        NA    34   NA         \n",
       "6 Embajadores   3             1        0         2    60   NA         \n",
       "  Guests.Included Extra.People Review.Scores.Rating Latitude Longitude\n",
       "1 1                0            95                  40.41697 -3.709439\n",
       "2 2                5            99                  40.42319 -3.711249\n",
       "3 6               40            96                  40.41651 -3.717843\n",
       "4 1                0            90                  40.41200 -3.706691\n",
       "5 1                6            88                  40.40809 -3.700322\n",
       "6 1                0           100                  40.41085 -3.701099"
      ]
     },
     "metadata": {},
     "output_type": "display_data"
    },
    {
     "data": {
      "text/plain": [
       "     Neighbourhood   Accommodates      Bathrooms        Bedrooms     \n",
       " MalasaÃ±a  : 679   Min.   : 1.000   Min.   :0.000   Min.   : 0.000  \n",
       " Embajadores: 585   1st Qu.: 3.000   1st Qu.:1.000   1st Qu.: 1.000  \n",
       " La Latina  : 571   Median : 4.000   Median :1.000   Median : 1.000  \n",
       " Sol        : 536   Mean   : 4.101   Mean   :1.248   Mean   : 1.453  \n",
       " Cortes     : 441   3rd Qu.: 5.000   3rd Qu.:1.000   3rd Qu.: 2.000  \n",
       " Justicia   : 384   Max.   :16.000   Max.   :6.500   Max.   :10.000  \n",
       " (Other)    :2405                    NA's   :14      NA's   :7       \n",
       "      Beds            Price         Square.Feet     Guests.Included \n",
       " Min.   : 1.000   Min.   : 10.00   Min.   :   0.0   Min.   : 1.000  \n",
       " 1st Qu.: 1.000   1st Qu.: 56.00   1st Qu.:   0.0   1st Qu.: 1.000  \n",
       " Median : 2.000   Median : 75.00   Median : 237.0   Median : 2.000  \n",
       " Mean   : 2.393   Mean   : 88.74   Mean   : 392.6   Mean   : 1.952  \n",
       " 3rd Qu.: 3.000   3rd Qu.:100.00   3rd Qu.: 646.0   3rd Qu.: 2.000  \n",
       " Max.   :16.000   Max.   :850.00   Max.   :5167.0   Max.   :15.000  \n",
       " NA's   :8        NA's   :5        NA's   :5254                     \n",
       "  Extra.People    Review.Scores.Rating    Latitude       Longitude     \n",
       " Min.   :  0.00   Min.   : 20.00       Min.   :40.33   Min.   :-3.835  \n",
       " 1st Qu.:  0.00   1st Qu.: 88.00       1st Qu.:40.41   1st Qu.:-3.707  \n",
       " Median : 10.00   Median : 93.00       Median :40.42   Median :-3.702  \n",
       " Mean   :  8.79   Mean   : 91.29       Mean   :40.42   Mean   :-3.699  \n",
       " 3rd Qu.: 15.00   3rd Qu.: 97.00       3rd Qu.:40.43   3rd Qu.:-3.696  \n",
       " Max.   :276.00   Max.   :100.00       Max.   :40.51   Max.   :-3.576  \n",
       "                  NA's   :833                                          "
      ]
     },
     "metadata": {},
     "output_type": "display_data"
    }
   ],
   "source": [
    "head(df_madrid)\n",
    "summary(df_madrid)"
   ]
  },
  {
   "cell_type": "markdown",
   "metadata": {},
   "source": [
    "Crea una nueva columna llamada Square.Meters a partir de Square.Feet. Recuerda que un pie cuadrado son 0.092903 metros cuadrados."
   ]
  },
  {
   "cell_type": "code",
   "execution_count": 7,
   "metadata": {},
   "outputs": [],
   "source": [
    "df_madrid$Square.Meters <- df_madrid$Square.Feet * 0.092903\n",
    "borrar <- c(\"Square.Feet\")\n",
    "df_madrid <- df_madrid[ , !(names(df_madrid) %in% borrar)]"
   ]
  },
  {
   "cell_type": "markdown",
   "metadata": {},
   "source": [
    "¿Que porcentaje de los apartamentos no muestran los metros cuadrados? Es decir, ¿cuantos tienen NA en Square.Meters?"
   ]
  },
  {
   "cell_type": "code",
   "execution_count": 8,
   "metadata": {},
   "outputs": [
    {
     "data": {
      "text/html": [
       "93.8046777361185"
      ],
      "text/latex": [
       "93.8046777361185"
      ],
      "text/markdown": [
       "93.8046777361185"
      ],
      "text/plain": [
       "[1] 93.80468"
      ]
     },
     "metadata": {},
     "output_type": "display_data"
    }
   ],
   "source": [
    "nrow(df_madrid %>% filter(is.na(df_madrid$Square.Meters)))*100/nrow(df_madrid)"
   ]
  },
  {
   "cell_type": "markdown",
   "metadata": {},
   "source": [
    "De todos los apartamentos que tienen un valor de metros cuadrados diferente de NA \n",
    "¿Que porcentaje de los apartamentos tienen 0 metros cuadrados?"
   ]
  },
  {
   "cell_type": "code",
   "execution_count": 9,
   "metadata": {},
   "outputs": [
    {
     "data": {
      "text/html": [
       "36.8876080691643"
      ],
      "text/latex": [
       "36.8876080691643"
      ],
      "text/markdown": [
       "36.8876080691643"
      ],
      "text/plain": [
       "[1] 36.88761"
      ]
     },
     "metadata": {},
     "output_type": "display_data"
    }
   ],
   "source": [
    "nrow(df_madrid %>% filter(df_madrid$Square.Meters==0))*100/nrow(df_madrid %>% filter(!is.na(df_madrid$Square.Meters)))"
   ]
  },
  {
   "cell_type": "markdown",
   "metadata": {},
   "source": [
    "Reemplazar todos los 0m^2 por NA "
   ]
  },
  {
   "cell_type": "code",
   "execution_count": 10,
   "metadata": {},
   "outputs": [],
   "source": [
    "df_madrid$Square.Meters[df_madrid$Square.Meters==0] <- NA "
   ]
  },
  {
   "cell_type": "code",
   "execution_count": 11,
   "metadata": {},
   "outputs": [
    {
     "data": {
      "text/html": [
       "96.0899839314408"
      ],
      "text/latex": [
       "96.0899839314408"
      ],
      "text/markdown": [
       "96.0899839314408"
      ],
      "text/plain": [
       "[1] 96.08998"
      ]
     },
     "metadata": {},
     "output_type": "display_data"
    }
   ],
   "source": [
    "nrow(df_madrid %>% filter(is.na(df_madrid$Square.Meters)))*100/nrow(df_madrid)"
   ]
  },
  {
   "cell_type": "markdown",
   "metadata": {},
   "source": [
    "Son muchos, vamos a intentar crear un modelo que nos prediga cuantos son los metros cuadrados en función del resto de variables para tratar de rellenar esos NA. Pero antes de eso deberíamos pintar el histograma de los metros cuadrados y ver si tenemos que filtrar algún elemento más, además crearemos una variable sintética nueva basada en la similitud entre barrios."
   ]
  },
  {
   "cell_type": "code",
   "execution_count": 12,
   "metadata": {},
   "outputs": [
    {
     "name": "stderr",
     "output_type": "stream",
     "text": [
      "Warning message:\n",
      "\"Removed 5383 rows containing non-finite values (stat_bin).\"Warning message:\n",
      "\"Removed 2 rows containing missing values (geom_bar).\""
     ]
    },
    {
     "data": {
      "image/png": "[encoded data removed]",
      "text/plain": [
       "plot without title"
      ]
     },
     "metadata": {},
     "output_type": "display_data"
    }
   ],
   "source": [
    "#df_precio_recoletos = df_madrid[airbnb_entire[,\"Barrio\"] == \"Recoletos\",]\n",
    "ggplot(data=data.frame(df_madrid$Square.Meters), aes(x=df_madrid$Square.Meters))+\n",
    "geom_histogram(bins=20,fill=\"#7070BB\",color=\"#010101\")+ \n",
    "scale_x_continuous(breaks = seq(0,300,20), lim=c(0,300))"
   ]
  },
  {
   "cell_type": "markdown",
   "metadata": {},
   "source": []
  },
  {
   "cell_type": "markdown",
   "metadata": {},
   "source": [
    "Asigna el valor NA a la columna Square.Meters de los apartamentos que tengan menos de 20 m^2"
   ]
  },
  {
   "cell_type": "code",
   "execution_count": 13,
   "metadata": {},
   "outputs": [],
   "source": [
    "df_madrid$Square.Meters[df_madrid$Square.Meters<20] <- NA"
   ]
  },
  {
   "cell_type": "markdown",
   "metadata": {},
   "source": [
    "Existen varios Barrios que todas sus entradas son NA, vamos a eliminar del dataset todos los pisos que pertenecen a estos barrios."
   ]
  },
  {
   "cell_type": "code",
   "execution_count": 14,
   "metadata": {},
   "outputs": [
    {
     "data": {
      "text/plain": [
       "                                     \n",
       "                                      FALSE TRUE\n",
       "                                        775 4454\n",
       "  Ã\\230sterbro                               2    0\n",
       "  Acacias                                 0   72\n",
       "  Acton                                  10    0\n",
       "  Adams Morgan                            1    0\n",
       "  Adelfas                                 0   35\n",
       "  Agios Nikolaos                          2    0\n",
       "  AlÃ©sia                                 3    0\n",
       "  Albert Park                             1    0\n",
       "  Almagro                                 0  104\n",
       "  Almenara                                0   42\n",
       "  Alt-Treptow                             1    0\n",
       "  Aluche                                  0  225\n",
       "  Arapiles                                1  116\n",
       "  ArgÃ¼elles                              0  217\n",
       "  Arganzuela                              0   14\n",
       "  Astoria                                 1    0\n",
       "  Atocha                                  0    6\n",
       "  Aurelio                                 2    0\n",
       "  Auteuil                                 2    0\n",
       "  Balham                                  1    0\n",
       "  Ballard                                 1    0\n",
       "  Barajas                                 1   51\n",
       "  Barney Circle                           1    0\n",
       "  Bastille                                1    0\n",
       "  Batignolles                             4    0\n",
       "  Bedford-Stuyvesant                      5    0\n",
       "  Beguinage-Dixmude                       1    0\n",
       "  Bellas Vistas                           0   49\n",
       "  Berkeley                                2    0\n",
       "  Bernal Heights                          1    0\n",
       "  Berruguete                              0   41\n",
       "  Bethnal Green                           2    0\n",
       "  Beverly Hills                           1    0\n",
       "  Bloomsbury                              1    0\n",
       "  Boerum Hill                             1    0\n",
       "  Bondi                                   2    0\n",
       "  Bondi Beach                            10    0\n",
       "  Bondi Junction                          1    0\n",
       "  Borgo                                   1    0\n",
       "  Bouldin Creek                           1    0\n",
       "  Bow                                     2    0\n",
       "  Brentwood                               1    0\n",
       "  Brixton                                 1    0\n",
       "  Broadview                               1    0\n",
       "  Bromley-by-Bow                          2    0\n",
       "  Brunswick                               1    0\n",
       "  Bushwick                                2    0\n",
       "  Buttes-Chaumont - Belleville            3    0\n",
       "  Camden Town                             1    0\n",
       "  Camp d'en Grassot i GrÃ cia Nova       12    0\n",
       "  Can Baro                                2    0\n",
       "  Cannaregio                              1    0\n",
       "  Capitol Hill                            2    0\n",
       "  Carabanchel                             0  198\n",
       "  Carroll Gardens                         1    0\n",
       "  Castellana                              0   69\n",
       "  Castilla                                0   22\n",
       "  Castillejos                             0   56\n",
       "  Cedarvale Humewood                      1    0\n",
       "  Central Business District               2    0\n",
       "  Centro                                  0   21\n",
       "  ChÃ¢telet - Les Halles - Beaubourg      2    0\n",
       "  ChamberÃ­                               0   23\n",
       "  Champs-ElysÃ©es                         1    0\n",
       "  Charlottenburg                          2    0\n",
       "  Chausee De Haecht                       3    0\n",
       "  Chelsea                                 2    0\n",
       "  Christianshavn                          1    0\n",
       "  City of London                          1    0\n",
       "  City Park West                          1    0\n",
       "  Ciudad Jardin                           0   33\n",
       "  Ciudad Lineal                           0  177\n",
       "  Civic Center                            1    0\n",
       "  Clinton Hill                            1    0\n",
       "  Colonna                                 1    0\n",
       "  Commerce - Dupleix                      2    0\n",
       "  Cortes                                  2  554\n",
       "  Crestwood                               1    0\n",
       "  Crown Heights                           1    0\n",
       "  Crystal Palace                          2    0\n",
       "  Cuatro Caminos                          1   74\n",
       "  DÃ¶bling                                1    0\n",
       "  Dalston                                 1    0\n",
       "  Dansaert                                1    0\n",
       "  Darlinghurst                            1    0\n",
       "  De Pijp                                 2    0\n",
       "  Delicias                                1   64\n",
       "  Ditmars / Steinway                      1    0\n",
       "  Docklands                               7    0\n",
       "  Downtown                                1    0\n",
       "  Downtown Toronto                        3    0\n",
       "  Dreta de l'Eixample                    45    0\n",
       "  Dupont Circle                           1    0\n",
       "  Earls Court                             1    0\n",
       "  East and West Riverside                 2    0\n",
       "  East Harlem                             3    0\n",
       "  East Village                            4    0\n",
       "  Eckington                               4    0\n",
       "  El Born                                 8    0\n",
       "  El Camp de l'Arpa del Clot              3    0\n",
       "  El Clot                                 1    0\n",
       "  el Fort Pienc                           2    0\n",
       "  El GÃ²tic                              12    0\n",
       "  El Poble-sec                            6    0\n",
       "  El Putget i FarrÃ³                      1    0\n",
       "  El Raval                                3    0\n",
       "  El TrÃ©ntaiseis                         0   13\n",
       "  El Viso                                 0   33\n",
       "  Embajadores                             0  795\n",
       "  Esquilino                               3    0\n",
       "  Estrella                                0   12\n",
       "  Etterbeek                               1    0\n",
       "  Excelsior                               1    0\n",
       "  Fairlawn                                1    0\n",
       "  Fairview                                1    0\n",
       "  Flatbush                                1    0\n",
       "  Flatiron District                       1    0\n",
       "  Forest                                  1    0\n",
       "  Forest Hill                             1    0\n",
       "  Fort Greene                             3    0\n",
       "  Frederik Hendrikbuurt                   1    0\n",
       "  Frederiksberg                           1    0\n",
       "  Friedrichshain                          2    0\n",
       "  Fuencarral-el Pardo                     1   79\n",
       "  Fuencarral-El Pardo                     0    4\n",
       "  Fuente del Berro                        0   49\n",
       "  Garbatella                              3    0\n",
       "  Gare de Lyon                            2    0\n",
       "  Gare du Nord - Gare de I'Est            5    0\n",
       "  Gaztambide                              0   93\n",
       "  GlÃ²ries - El Parc                      5    0\n",
       "  Glebe                                   1    0\n",
       "  Golden Hill                             3    0\n",
       "  Goya                                    0  159\n",
       "  GrÃ cia                                 1    0\n",
       "  Grand Place                             1    0\n",
       "  Greenpoint                              2    0\n",
       "  Greenwich                               1    0\n",
       "  Greenwood                               1    0\n",
       "  Guindalera                              0  136\n",
       "  Hackney                                 1    0\n",
       "  Hamilton Heights                        2    0\n",
       "  Hammersmith                             1    0\n",
       "  Hampstead                               1    0\n",
       "  Harlem                                  4    0\n",
       "  Haut Saint-Gilles                       2    0\n",
       "  Hell's Kitchen                          2    0\n",
       "  Highbridge                              1    0\n",
       "  Highland Park                           2    0\n",
       "  HispanoamÃ©rica                         0   37\n",
       "  Hollywood                               7    0\n",
       "  Hollywood Hills                         1    0\n",
       "  Hoofddorppleinbuurt                     1    0\n",
       "  Horta-GuinardÃ³                         1    0\n",
       "  Hortaleza                               0  107\n",
       "  Humboldt Park                           1    0\n",
       "  Ibiza                                   1   65\n",
       "  II Arrondissement                       1    0\n",
       "  Imperial                                0   57\n",
       "  Indische Buurt                          1    0\n",
       "  Indre By                                1    0\n",
       "  Innere Stadt                            1    0\n",
       "  Invalides - Ecole Militaire             2    0\n",
       "  Isle of Dogs                            2    0\n",
       "  Islington                               2    0\n",
       "  Jamaica Plain                           2    0\n",
       "  JerÃ³nimos                              0   54\n",
       "  Jordaan                                 1    0\n",
       "  Justicia                                3  556\n",
       "  KÃ¸dbyen                                1    0\n",
       "  Karlshorst                              1    0\n",
       "  Kennington                              1    0\n",
       "  Kensington                              1    0\n",
       "  Kreuzberg                               3    0\n",
       "  L'Antiga Esquerra de l'Eixample        23    0\n",
       "  La Barceloneta                          1    0\n",
       "  La Chapelle                             4    0\n",
       "  La Chopera                              0   61\n",
       "  La Latina                               1  809\n",
       "  La Nova Esquerra de l'Eixample         14    0\n",
       "  La Sagrada FamÃ­lia                    11    0\n",
       "  La Salut                                2    0\n",
       "  La Vila OlÃ­mpica                       1    0\n",
       "  Lachine                                 1    0\n",
       "  Lake Balboa                             1    0\n",
       "  Lakeview                                1    0\n",
       "  Landelijk Noord                         1    0\n",
       "  LandstraÃŸe                            11    0\n",
       "  LB of Brent                             4    0\n",
       "  LB of Camden                            1    0\n",
       "  LB of Croydon                           1    0\n",
       "  LB of Ealing                            4    0\n",
       "  LB of Hackney                           1    0\n",
       "  LB of Haringey                          1    0\n",
       "  LB of Hounslow                          1    0\n",
       "  LB of Islington                         3    0\n",
       "  LB of Redbridge                         1    0\n",
       "  LB of Richmond upon Thames              1    0\n",
       "  LB of Sutton                            1    0\n",
       "  Le Marais                               3    0\n",
       "  Legazpi                                 0   29\n",
       "  Leopoldstadt                            4    0\n",
       "  Les Corts                               7    0\n",
       "  Les Corts (Nabe)                        4    0\n",
       "  Lewisham                                1    0\n",
       "  Lido                                    1    0\n",
       "  Lisson Grove                            1    0\n",
       "  Lista                                   0   80\n",
       "  Little Italy                            2    0\n",
       "  Logan Square                            2    0\n",
       "  Long Beach                              1    0\n",
       "  Los Feliz                               1    0\n",
       "  Lower East Side                         2    0\n",
       "  Madeleine - VendÃ´me                    3    0\n",
       "  Magnolia                                1    0\n",
       "  Maida Vale                              2    0\n",
       "  MalasaÃ±a                               1  894\n",
       "  Malibu                                  1    0\n",
       "  Margareten                              1    0\n",
       "  Mariahilf                               2    0\n",
       "  Marrickville                            1    0\n",
       "  Marylebone                              1    0\n",
       "  Mascot                                  1    0\n",
       "  Matonge                                 1    0\n",
       "  Mid-Wilshire                            6    0\n",
       "  Midtown                                 2    0\n",
       "  Midtown East                            2    0\n",
       "  Mission District                        2    0\n",
       "  Mitte                                   2    0\n",
       "  Moncloa                                 4   39\n",
       "  Monteverde Vecchio                      2    0\n",
       "  Monti                                   2    0\n",
       "  Montmartre                             10    0\n",
       "  Moratalaz                               0   43\n",
       "  Nation                                  1    0\n",
       "  Neos Kosmos                             1    0\n",
       "  Neubau                                  2    0\n",
       "  NeukÃ¶lln                               4    0\n",
       "  Newtown/Enmore                          2    0\n",
       "  Niagara                                 1    0\n",
       "  Nieuwmarkt en Lastage                   1    0\n",
       "  Nob Hill                                1    0\n",
       "  Nolita                                  2    0\n",
       "  North Beacon Hill                       1    0\n",
       "  North City Central/O'Connell Street     1    0\n",
       "  North Sydney                            2    0\n",
       "  Northcote                               1    0\n",
       "  Notting Hill                            1    0\n",
       "  Nueva EspaÃ±a                           0   37\n",
       "  Nunhead                                 1    0\n",
       "  Old Town                                1    0\n",
       "  Oosterparkbuurt                         1    0\n",
       "  Oud-West                                4    0\n",
       "  PÃ¨re Lachaise - MÃ©nilmontant          4    0\n",
       "  Pacifico                                0  102\n",
       "  Paddington                              2    0\n",
       "  Palacio                                 1  391\n",
       "  Palms                                   1    0\n",
       "  Palos do Moguer                         0  171\n",
       "  PanthÃ©on                               3    0\n",
       "  Parione                                 5    0\n",
       "  Pasadena                                1    0\n",
       "  Passy                                   1    0\n",
       "  Patisia                                 1    0\n",
       "  Pigalle - Saint-Georges                 5    0\n",
       "  Pimlico                                 2    0\n",
       "  Place d'Italie - Quartier Chinois       3    0\n",
       "  Ponte                                   1    0\n",
       "  Porte de Clignancourt                   1    0\n",
       "  Porte de Versailles                     1    0\n",
       "  Portobello                              6    0\n",
       "  Portuense                               1    0\n",
       "  Potts Point                             1    0\n",
       "  Prenzlauer Berg                         5    0\n",
       "  Prospect Heights                        1    0\n",
       "  Prosperidad                             0   65\n",
       "  ProvenÃ§als del Poblenou                2    0\n",
       "  Puente de Vallecas                      2  123\n",
       "  RÃ©publique                             9    0\n",
       "  Ravenna                                 1    0\n",
       "  RB of Kensington and Chelsea            1    0\n",
       "  Recoletos                               0  115\n",
       "  Regola                                  1    0\n",
       "  Retiro                                  0   11\n",
       "  Richmond                                1    0\n",
       "  Ridgewood                               3    0\n",
       "  Rios Rosas                              0   59\n",
       "  River North                             1    0\n",
       "  Riverbend                               4    0\n",
       "  Rivierenbuurt                           2    0\n",
       "  Rogers Park                             1    0\n",
       "  Rosebery                                1    0\n",
       "  Rosedale                                1    0\n",
       "  Saint-Germain-des-PrÃ©s - OdÃ©on        3    0\n",
       "  Saint-Lazare                            2    0\n",
       "  Saint-Michel                            2    0\n",
       "  San Blas                                0   69\n",
       "  San Giovanni                            3    0\n",
       "  San Lorenzo                             2    0\n",
       "  Sandymount                              1    0\n",
       "  Sant'Eustachio                          1    0\n",
       "  Sant Antoni                             3    0\n",
       "  Sant Gervasi - Galvany                  8    0\n",
       "  Sant Gervasi - la Bonanova              1    0\n",
       "  Sant MartÃ­ de ProvenÃ§als              1    0\n",
       "  Sant Pere/Santa Caterina                3    0\n",
       "  Santa Monica                            2    0\n",
       "  Sants-MontjuÃ¯c                        26    0\n",
       "  Sants - Badal                           1    0\n",
       "  Shepherd's Bush                         4    0\n",
       "  Sheung Wan                              1    0\n",
       "  Shoreditch                              2    0\n",
       "  Silver Lake                             1    0\n",
       "  Smithfield                              1    0\n",
       "  Soho                                    6    0\n",
       "  Sol                                     0  716\n",
       "  South LA                                1    0\n",
       "  South Robertson                         1    0\n",
       "  South Yarra                             1    0\n",
       "  Southside                               1    0\n",
       "  Southwark                               1    0\n",
       "  Southwest Waterfront                    1    0\n",
       "  St Peters                               1    0\n",
       "  St. John's Wood                         1    0\n",
       "  Stadionbuurt                            1    0\n",
       "  Stalingrad                              1    0\n",
       "  Stockwell                               1    0\n",
       "  Stoke Newington                         2    0\n",
       "  Stoneybatter/Arbour Hill                1    0\n",
       "  Sunset Park                             1    0\n",
       "  Surry Hills                             1    0\n",
       "  Temple Bar                              1    0\n",
       "  Templeogue                              1    0\n",
       "  Ternes                                  1    0\n",
       "  Testaccio                               2    0\n",
       "  TetuÃ¡n                                 0    4\n",
       "  The Annex                               3    0\n",
       "  The Beaches                             1    0\n",
       "  The Castro                              2    0\n",
       "  The Liberties                           6    0\n",
       "  Times Square/Theatre District           1    0\n",
       "  Tollcross                               3    0\n",
       "  Topanga                                 3    0\n",
       "  Tour Eiffel - Champ de Mars             5    0\n",
       "  Trafalgar                               0  203\n",
       "  Trastevere                              4    0\n",
       "  Trevi                                   1    0\n",
       "  Trieste                                 1    0\n",
       "  Trinity College                         1    0\n",
       "  Truxton Circle                          3    0\n",
       "  Tsim Sha Tsui                           1    0\n",
       "  Upper East Side                         3    0\n",
       "  Upper Tooting                           1    0\n",
       "  Upper West Side                         1    0\n",
       "  Usera                                   0   67\n",
       "  Valby                                   1    0\n",
       "  Valdeacederas                           0   31\n",
       "  Vallehermosa                            0   34\n",
       "  Van Nuys                                1    0\n",
       "  Vaugirard                               5    0\n",
       "  Venice                                  1    0\n",
       "  Vesterbro                               2    0\n",
       "  VicÃ¡lvaro                              0   19\n",
       "  Vila de GrÃ cia                        14    0\n",
       "  Villa de Vallecas                       0   25\n",
       "  Villaverde                              0   44\n",
       "  WÃ¤hring                                1    0\n",
       "  Wallace Emerson                         1    0\n",
       "  Wallingford                             1    0\n",
       "  Walworth                                2    0\n",
       "  Wedding                                 1    0\n",
       "  Weesperbuurt en Plantage                2    0\n",
       "  WeiÃŸensee                              1    0\n",
       "  West Adams                              1    0\n",
       "  West Austin                             1    0\n",
       "  West Hollywood                          1    0\n",
       "  West Norwood                            1    0\n",
       "  West Village                            1    0\n",
       "  Westminster                             1    0\n",
       "  Westmount                               1    0\n",
       "  Westside                                1    0\n",
       "  Whitechapel/Brick Lane                  2    0\n",
       "  Wicker Park                             1    0\n",
       "  Wieden                                  3    0\n",
       "  Williamsburg                            6    0\n",
       "  Wilmersdorf                             1    0\n",
       "  Wimbledon                               1    0\n",
       "  Woollahra                               1    0\n",
       "  XI Arrondissement                       1    0\n",
       "  Zilker                                  1    0"
      ]
     },
     "metadata": {},
     "output_type": "display_data"
    }
   ],
   "source": [
    "table(airbnb_filter$Neighbourhood, airbnb_filter$City==\"Madrid\")"
   ]
  },
  {
   "cell_type": "code",
   "execution_count": 15,
   "metadata": {
    "scrolled": true
   },
   "outputs": [
    {
     "data": {
      "text/plain": [
       "                                     \n",
       "                                      FALSE TRUE\n",
       "                                          0    0\n",
       "  Ã\\230sterbro                               0    0\n",
       "  Acacias                                 3   30\n",
       "  Acton                                   0    0\n",
       "  Adams Morgan                            0    0\n",
       "  Adelfas                                 1   25\n",
       "  Agios Nikolaos                          0    0\n",
       "  AlÃ©sia                                 0    0\n",
       "  Albert Park                             0    0\n",
       "  Almagro                                 1   74\n",
       "  Almenara                                5   15\n",
       "  Alt-Treptow                             0    0\n",
       "  Aluche                                  0   81\n",
       "  Arapiles                                2   64\n",
       "  ArgÃ¼elles                              3  115\n",
       "  Arganzuela                              0    2\n",
       "  Astoria                                 0    0\n",
       "  Atocha                                  0    5\n",
       "  Aurelio                                 0    0\n",
       "  Auteuil                                 0    0\n",
       "  Balham                                  0    0\n",
       "  Ballard                                 0    0\n",
       "  Barajas                                 1   10\n",
       "  Barney Circle                           0    0\n",
       "  Bastille                                0    0\n",
       "  Batignolles                             0    0\n",
       "  Bedford-Stuyvesant                      0    0\n",
       "  Beguinage-Dixmude                       0    0\n",
       "  Bellas Vistas                           0   27\n",
       "  Berkeley                                0    0\n",
       "  Bernal Heights                          0    0\n",
       "  Berruguete                              0   23\n",
       "  Bethnal Green                           0    0\n",
       "  Beverly Hills                           0    0\n",
       "  Bloomsbury                              0    0\n",
       "  Boerum Hill                             0    0\n",
       "  Bondi                                   0    0\n",
       "  Bondi Beach                             0    0\n",
       "  Bondi Junction                          0    0\n",
       "  Borgo                                   0    0\n",
       "  Bouldin Creek                           0    0\n",
       "  Bow                                     0    0\n",
       "  Brentwood                               0    0\n",
       "  Brixton                                 0    0\n",
       "  Broadview                               0    0\n",
       "  Bromley-by-Bow                          0    0\n",
       "  Brunswick                               0    0\n",
       "  Bushwick                                0    0\n",
       "  Buttes-Chaumont - Belleville            0    0\n",
       "  Camden Town                             0    0\n",
       "  Camp d'en Grassot i GrÃ cia Nova        0    0\n",
       "  Can Baro                                0    0\n",
       "  Cannaregio                              0    0\n",
       "  Capitol Hill                            0    0\n",
       "  Carabanchel                             3   73\n",
       "  Carroll Gardens                         0    0\n",
       "  Castellana                              3   48\n",
       "  Castilla                                3   14\n",
       "  Castillejos                             0   35\n",
       "  Cedarvale Humewood                      0    0\n",
       "  Central Business District               0    0\n",
       "  Centro                                  1   12\n",
       "  ChÃ¢telet - Les Halles - Beaubourg      0    0\n",
       "  ChamberÃ­                               1   13\n",
       "  Champs-ElysÃ©es                         0    0\n",
       "  Charlottenburg                          0    0\n",
       "  Chausee De Haecht                       0    0\n",
       "  Chelsea                                 0    0\n",
       "  Christianshavn                          0    0\n",
       "  City of London                          0    0\n",
       "  City Park West                          0    0\n",
       "  Ciudad Jardin                           1   17\n",
       "  Ciudad Lineal                           2   74\n",
       "  Civic Center                            0    0\n",
       "  Clinton Hill                            0    0\n",
       "  Colonna                                 0    0\n",
       "  Commerce - Dupleix                      0    0\n",
       "  Cortes                                  9  432\n",
       "  Crestwood                               0    0\n",
       "  Crown Heights                           0    0\n",
       "  Crystal Palace                          0    0\n",
       "  Cuatro Caminos                          2   43\n",
       "  DÃ¶bling                                0    0\n",
       "  Dalston                                 0    0\n",
       "  Dansaert                                0    0\n",
       "  Darlinghurst                            0    0\n",
       "  De Pijp                                 0    0\n",
       "  Delicias                                0   25\n",
       "  Ditmars / Steinway                      0    0\n",
       "  Docklands                               0    0\n",
       "  Downtown                                0    0\n",
       "  Downtown Toronto                        0    0\n",
       "  Dreta de l'Eixample                     0    0\n",
       "  Dupont Circle                           0    0\n",
       "  Earls Court                             0    0\n",
       "  East and West Riverside                 0    0\n",
       "  East Harlem                             0    0\n",
       "  East Village                            0    0\n",
       "  Eckington                               0    0\n",
       "  El Born                                 0    0\n",
       "  El Camp de l'Arpa del Clot              0    0\n",
       "  El Clot                                 0    0\n",
       "  el Fort Pienc                           0    0\n",
       "  El GÃ²tic                               0    0\n",
       "  El Poble-sec                            0    0\n",
       "  El Putget i FarrÃ³                      0    0\n",
       "  El Raval                                0    0\n",
       "  El TrÃ©ntaiseis                         1    9\n",
       "  El Viso                                 1   17\n",
       "  Embajadores                            20  565\n",
       "  Esquilino                               0    0\n",
       "  Estrella                                0    4\n",
       "  Etterbeek                               0    0\n",
       "  Excelsior                               0    0\n",
       "  Fairlawn                                0    0\n",
       "  Fairview                                0    0\n",
       "  Flatbush                                0    0\n",
       "  Flatiron District                       0    0\n",
       "  Forest                                  0    0\n",
       "  Forest Hill                             0    0\n",
       "  Fort Greene                             0    0\n",
       "  Frederik Hendrikbuurt                   0    0\n",
       "  Frederiksberg                           0    0\n",
       "  Friedrichshain                          0    0\n",
       "  Fuencarral-el Pardo                     0   27\n",
       "  Fuencarral-El Pardo                     0    2\n",
       "  Fuente del Berro                        1   32\n",
       "  Garbatella                              0    0\n",
       "  Gare de Lyon                            0    0\n",
       "  Gare du Nord - Gare de I'Est            0    0\n",
       "  Gaztambide                              0   40\n",
       "  GlÃ²ries - El Parc                      0    0\n",
       "  Glebe                                   0    0\n",
       "  Golden Hill                             0    0\n",
       "  Goya                                    2  106\n",
       "  GrÃ cia                                 0    0\n",
       "  Grand Place                             0    0\n",
       "  Greenpoint                              0    0\n",
       "  Greenwich                               0    0\n",
       "  Greenwood                               0    0\n",
       "  Guindalera                              0   54\n",
       "  Hackney                                 0    0\n",
       "  Hamilton Heights                        0    0\n",
       "  Hammersmith                             0    0\n",
       "  Hampstead                               0    0\n",
       "  Harlem                                  0    0\n",
       "  Haut Saint-Gilles                       0    0\n",
       "  Hell's Kitchen                          0    0\n",
       "  Highbridge                              0    0\n",
       "  Highland Park                           0    0\n",
       "  HispanoamÃ©rica                         0   28\n",
       "  Hollywood                               0    0\n",
       "  Hollywood Hills                         0    0\n",
       "  Hoofddorppleinbuurt                     0    0\n",
       "  Horta-GuinardÃ³                         0    0\n",
       "  Hortaleza                               0   41\n",
       "  Humboldt Park                           0    0\n",
       "  Ibiza                                   0   46\n",
       "  II Arrondissement                       0    0\n",
       "  Imperial                                0   33\n",
       "  Indische Buurt                          0    0\n",
       "  Indre By                                0    0\n",
       "  Innere Stadt                            0    0\n",
       "  Invalides - Ecole Militaire             0    0\n",
       "  Isle of Dogs                            0    0\n",
       "  Islington                               0    0\n",
       "  Jamaica Plain                           0    0\n",
       "  JerÃ³nimos                              2   31\n",
       "  Jordaan                                 0    0\n",
       "  Justicia                                8  376\n",
       "  KÃ¸dbyen                                0    0\n",
       "  Karlshorst                              0    0\n",
       "  Kennington                              0    0\n",
       "  Kensington                              0    0\n",
       "  Kreuzberg                               0    0\n",
       "  L'Antiga Esquerra de l'Eixample         0    0\n",
       "  La Barceloneta                          0    0\n",
       "  La Chapelle                             0    0\n",
       "  La Chopera                              0   22\n",
       "  La Latina                              20  551\n",
       "  La Nova Esquerra de l'Eixample          0    0\n",
       "  La Sagrada FamÃ­lia                     0    0\n",
       "  La Salut                                0    0\n",
       "  La Vila OlÃ­mpica                       0    0\n",
       "  Lachine                                 0    0\n",
       "  Lake Balboa                             0    0\n",
       "  Lakeview                                0    0\n",
       "  Landelijk Noord                         0    0\n",
       "  LandstraÃŸe                             0    0\n",
       "  LB of Brent                             0    0\n",
       "  LB of Camden                            0    0\n",
       "  LB of Croydon                           0    0\n",
       "  LB of Ealing                            0    0\n",
       "  LB of Hackney                           0    0\n",
       "  LB of Haringey                          0    0\n",
       "  LB of Hounslow                          0    0\n",
       "  LB of Islington                         0    0\n",
       "  LB of Redbridge                         0    0\n",
       "  LB of Richmond upon Thames              0    0\n",
       "  LB of Sutton                            0    0\n",
       "  Le Marais                               0    0\n",
       "  Legazpi                                 0   12\n",
       "  Leopoldstadt                            0    0\n",
       "  Les Corts                               0    0\n",
       "  Les Corts (Nabe)                        0    0\n",
       "  Lewisham                                0    0\n",
       "  Lido                                    0    0\n",
       "  Lisson Grove                            0    0\n",
       "  Lista                                   2   45\n",
       "  Little Italy                            0    0\n",
       "  Logan Square                            0    0\n",
       "  Long Beach                              0    0\n",
       "  Los Feliz                               0    0\n",
       "  Lower East Side                         0    0\n",
       "  Madeleine - VendÃ´me                    0    0\n",
       "  Magnolia                                0    0\n",
       "  Maida Vale                              0    0\n",
       "  MalasaÃ±a                              26  653\n",
       "  Malibu                                  0    0\n",
       "  Margareten                              0    0\n",
       "  Mariahilf                               0    0\n",
       "  Marrickville                            0    0\n",
       "  Marylebone                              0    0\n",
       "  Mascot                                  0    0\n",
       "  Matonge                                 0    0\n",
       "  Mid-Wilshire                            0    0\n",
       "  Midtown                                 0    0\n",
       "  Midtown East                            0    0\n",
       "  Mission District                        0    0\n",
       "  Mitte                                   0    0\n",
       "  Moncloa                                 0   14\n",
       "  Monteverde Vecchio                      0    0\n",
       "  Monti                                   0    0\n",
       "  Montmartre                              0    0\n",
       "  Moratalaz                               1   14\n",
       "  Nation                                  0    0\n",
       "  Neos Kosmos                             0    0\n",
       "  Neubau                                  0    0\n",
       "  NeukÃ¶lln                               0    0\n",
       "  Newtown/Enmore                          0    0\n",
       "  Niagara                                 0    0\n",
       "  Nieuwmarkt en Lastage                   0    0\n",
       "  Nob Hill                                0    0\n",
       "  Nolita                                  0    0\n",
       "  North Beacon Hill                       0    0\n",
       "  North City Central/O'Connell Street     0    0\n",
       "  North Sydney                            0    0\n",
       "  Northcote                               0    0\n",
       "  Notting Hill                            0    0\n",
       "  Nueva EspaÃ±a                           0   26\n",
       "  Nunhead                                 0    0\n",
       "  Old Town                                0    0\n",
       "  Oosterparkbuurt                         0    0\n",
       "  Oud-West                                0    0\n",
       "  PÃ¨re Lachaise - MÃ©nilmontant          0    0\n",
       "  Pacifico                                2   42\n",
       "  Paddington                              0    0\n",
       "  Palacio                                 5  289\n",
       "  Palms                                   0    0\n",
       "  Palos do Moguer                         2   92\n",
       "  PanthÃ©on                               0    0\n",
       "  Parione                                 0    0\n",
       "  Pasadena                                0    0\n",
       "  Passy                                   0    0\n",
       "  Patisia                                 0    0\n",
       "  Pigalle - Saint-Georges                 0    0\n",
       "  Pimlico                                 0    0\n",
       "  Place d'Italie - Quartier Chinois       0    0\n",
       "  Ponte                                   0    0\n",
       "  Porte de Clignancourt                   0    0\n",
       "  Porte de Versailles                     0    0\n",
       "  Portobello                              0    0\n",
       "  Portuense                               0    0\n",
       "  Potts Point                             0    0\n",
       "  Prenzlauer Berg                         0    0\n",
       "  Prospect Heights                        0    0\n",
       "  Prosperidad                             0   39\n",
       "  ProvenÃ§als del Poblenou                0    0\n",
       "  Puente de Vallecas                      0   47\n",
       "  RÃ©publique                             0    0\n",
       "  Ravenna                                 0    0\n",
       "  RB of Kensington and Chelsea            0    0\n",
       "  Recoletos                               2   92\n",
       "  Regola                                  0    0\n",
       "  Retiro                                  1    6\n",
       "  Richmond                                0    0\n",
       "  Ridgewood                               0    0\n",
       "  Rios Rosas                              1   36\n",
       "  River North                             0    0\n",
       "  Riverbend                               0    0\n",
       "  Rivierenbuurt                           0    0\n",
       "  Rogers Park                             0    0\n",
       "  Rosebery                                0    0\n",
       "  Rosedale                                0    0\n",
       "  Saint-Germain-des-PrÃ©s - OdÃ©on        0    0\n",
       "  Saint-Lazare                            0    0\n",
       "  Saint-Michel                            0    0\n",
       "  San Blas                                3   24\n",
       "  San Giovanni                            0    0\n",
       "  San Lorenzo                             0    0\n",
       "  Sandymount                              0    0\n",
       "  Sant'Eustachio                          0    0\n",
       "  Sant Antoni                             0    0\n",
       "  Sant Gervasi - Galvany                  0    0\n",
       "  Sant Gervasi - la Bonanova              0    0\n",
       "  Sant MartÃ­ de ProvenÃ§als              0    0\n",
       "  Sant Pere/Santa Caterina                0    0\n",
       "  Santa Monica                            0    0\n",
       "  Sants-MontjuÃ¯c                         0    0\n",
       "  Sants - Badal                           0    0\n",
       "  Shepherd's Bush                         0    0\n",
       "  Sheung Wan                              0    0\n",
       "  Shoreditch                              0    0\n",
       "  Silver Lake                             0    0\n",
       "  Smithfield                              0    0\n",
       "  Soho                                    0    0\n",
       "  Sol                                    28  508\n",
       "  South LA                                0    0\n",
       "  South Robertson                         0    0\n",
       "  South Yarra                             0    0\n",
       "  Southside                               0    0\n",
       "  Southwark                               0    0\n",
       "  Southwest Waterfront                    0    0\n",
       "  St Peters                               0    0\n",
       "  St. John's Wood                         0    0\n",
       "  Stadionbuurt                            0    0\n",
       "  Stalingrad                              0    0\n",
       "  Stockwell                               0    0\n",
       "  Stoke Newington                         0    0\n",
       "  Stoneybatter/Arbour Hill                0    0\n",
       "  Sunset Park                             0    0\n",
       "  Surry Hills                             0    0\n",
       "  Temple Bar                              0    0\n",
       "  Templeogue                              0    0\n",
       "  Ternes                                  0    0\n",
       "  Testaccio                               0    0\n",
       "  TetuÃ¡n                                 0    3\n",
       "  The Annex                               0    0\n",
       "  The Beaches                             0    0\n",
       "  The Castro                              0    0\n",
       "  The Liberties                           0    0\n",
       "  Times Square/Theatre District           0    0\n",
       "  Tollcross                               0    0\n",
       "  Topanga                                 0    0\n",
       "  Tour Eiffel - Champ de Mars             0    0\n",
       "  Trafalgar                               3  151\n",
       "  Trastevere                              0    0\n",
       "  Trevi                                   0    0\n",
       "  Trieste                                 0    0\n",
       "  Trinity College                         0    0\n",
       "  Truxton Circle                          0    0\n",
       "  Tsim Sha Tsui                           0    0\n",
       "  Upper East Side                         0    0\n",
       "  Upper Tooting                           0    0\n",
       "  Upper West Side                         0    0\n",
       "  Usera                                   1   25\n",
       "  Valby                                   0    0\n",
       "  Valdeacederas                           0   18\n",
       "  Vallehermosa                            0   18\n",
       "  Van Nuys                                0    0\n",
       "  Vaugirard                               0    0\n",
       "  Venice                                  0    0\n",
       "  Vesterbro                               0    0\n",
       "  VicÃ¡lvaro                              1    4\n",
       "  Vila de GrÃ cia                         0    0\n",
       "  Villa de Vallecas                       0   12\n",
       "  Villaverde                              0   16\n",
       "  WÃ¤hring                                0    0\n",
       "  Wallace Emerson                         0    0\n",
       "  Wallingford                             0    0\n",
       "  Walworth                                0    0\n",
       "  Wedding                                 0    0\n",
       "  Weesperbuurt en Plantage                0    0\n",
       "  WeiÃŸensee                              0    0\n",
       "  West Adams                              0    0\n",
       "  West Austin                             0    0\n",
       "  West Hollywood                          0    0\n",
       "  West Norwood                            0    0\n",
       "  West Village                            0    0\n",
       "  Westminster                             0    0\n",
       "  Westmount                               0    0\n",
       "  Westside                                0    0\n",
       "  Whitechapel/Brick Lane                  0    0\n",
       "  Wicker Park                             0    0\n",
       "  Wieden                                  0    0\n",
       "  Williamsburg                            0    0\n",
       "  Wilmersdorf                             0    0\n",
       "  Wimbledon                               0    0\n",
       "  Woollahra                               0    0\n",
       "  XI Arrondissement                       0    0\n",
       "  Zilker                                  0    0"
      ]
     },
     "metadata": {},
     "output_type": "display_data"
    }
   ],
   "source": [
    "table(df_madrid$Neighbourhood,is.na(df_madrid$Square.Meters))"
   ]
  },
  {
   "cell_type": "code",
   "execution_count": 16,
   "metadata": {},
   "outputs": [
    {
     "data": {
      "text/plain": [
       "     Neighbourhood   Accommodates      Bathrooms        Bedrooms     \n",
       " MalasaÃ±a  : 679   Min.   : 1.000   Min.   :0.000   Min.   : 0.000  \n",
       " Embajadores: 585   1st Qu.: 3.000   1st Qu.:1.000   1st Qu.: 1.000  \n",
       " La Latina  : 571   Median : 4.000   Median :1.000   Median : 1.000  \n",
       " Sol        : 536   Mean   : 4.101   Mean   :1.248   Mean   : 1.453  \n",
       " Cortes     : 441   3rd Qu.: 5.000   3rd Qu.:1.000   3rd Qu.: 2.000  \n",
       " Justicia   : 384   Max.   :16.000   Max.   :6.500   Max.   :10.000  \n",
       " (Other)    :2405                    NA's   :14      NA's   :7       \n",
       "      Beds            Price        Guests.Included   Extra.People   \n",
       " Min.   : 1.000   Min.   : 10.00   Min.   : 1.000   Min.   :  0.00  \n",
       " 1st Qu.: 1.000   1st Qu.: 56.00   1st Qu.: 1.000   1st Qu.:  0.00  \n",
       " Median : 2.000   Median : 75.00   Median : 2.000   Median : 10.00  \n",
       " Mean   : 2.393   Mean   : 88.74   Mean   : 1.952   Mean   :  8.79  \n",
       " 3rd Qu.: 3.000   3rd Qu.:100.00   3rd Qu.: 2.000   3rd Qu.: 15.00  \n",
       " Max.   :16.000   Max.   :850.00   Max.   :15.000   Max.   :276.00  \n",
       " NA's   :8        NA's   :5                                         \n",
       " Review.Scores.Rating    Latitude       Longitude      Square.Meters   \n",
       " Min.   : 20.00       Min.   :40.33   Min.   :-3.835   Min.   : 22.02  \n",
       " 1st Qu.: 88.00       1st Qu.:40.41   1st Qu.:-3.707   1st Qu.: 44.97  \n",
       " Median : 93.00       Median :40.42   Median :-3.702   Median : 60.02  \n",
       " Mean   : 91.29       Mean   :40.42   Mean   :-3.699   Mean   : 70.91  \n",
       " 3rd Qu.: 97.00       3rd Qu.:40.43   3rd Qu.:-3.696   3rd Qu.: 79.99  \n",
       " Max.   :100.00       Max.   :40.51   Max.   :-3.576   Max.   :480.03  \n",
       " NA's   :833                                           NA's   :5427    "
      ]
     },
     "metadata": {},
     "output_type": "display_data"
    }
   ],
   "source": [
    "summary(df_madrid)"
   ]
  },
  {
   "cell_type": "code",
   "execution_count": 17,
   "metadata": {},
   "outputs": [],
   "source": [
    "?filter"
   ]
  },
  {
   "cell_type": "code",
   "execution_count": 18,
   "metadata": {},
   "outputs": [],
   "source": [
    "borrar <- c(\"Aluche\",\"Arganzuela\",\"Atocha\",\"Bellas vistas\",\"Berrugete\",\"Castillejos\",\"Delicias\",\"Estrella\",\n",
    "           \"Fuencarral-el Pardo\",\"Fuencarral-El Pardo\",\"Gaztambide\", \"Guindalera\",\"HispanoamÃ©rica\",\"Hortaleza\",\"Ibiza\",\n",
    "           \"La Chopera\",\"Legazpi\",\"Moncloa\",\"Nueva EspaÃ±a\",\"Prosperidad\",\"Puente de Vallecas\",\"TetuÃ¡n\",\"Valdeacederas\",\n",
    "           \"Vallehermosa\",\"Villa de Vallecas\",\"Villaverde\")\n",
    "\n",
    "#df_madrid <- df_madrid[df_madrid$Neighbourhood[!(names(df_madrid) %in% borrar)]]\n",
    "df_madrid<- filter (df_madrid, !(df_madrid$Neighbourhood %in% borrar))"
   ]
  },
  {
   "cell_type": "code",
   "execution_count": 79,
   "metadata": {
    "scrolled": true
   },
   "outputs": [
    {
     "data": {
      "text/html": [
       "<table>\n",
       "<thead><tr><th scope=col>Neighbourhood</th><th scope=col>Accommodates</th><th scope=col>Bathrooms</th><th scope=col>Bedrooms</th><th scope=col>Beds</th><th scope=col>Price</th><th scope=col>Guests.Included</th><th scope=col>Extra.People</th><th scope=col>Review.Scores.Rating</th><th scope=col>Latitude</th><th scope=col>Longitude</th><th scope=col>Square.Meters</th></tr></thead>\n",
       "<tbody>\n",
       "\t<tr><td>Palacio    </td><td>2          </td><td> 1         </td><td>1          </td><td> 1         </td><td> 85        </td><td>1          </td><td> 0         </td><td> 95        </td><td>40.41697   </td><td>-3.709439  </td><td>NA         </td></tr>\n",
       "\t<tr><td>MalasaÃ±a  </td><td>4          </td><td> 1         </td><td>1          </td><td> 2         </td><td>112        </td><td>2          </td><td> 5         </td><td> 99        </td><td>40.42319   </td><td>-3.711249  </td><td>NA         </td></tr>\n",
       "\t<tr><td>Palacio    </td><td>8          </td><td> 3         </td><td>3          </td><td> 4         </td><td>190        </td><td>6          </td><td>40         </td><td> 96        </td><td>40.41651   </td><td>-3.717843  </td><td>NA         </td></tr>\n",
       "\t<tr><td>La Latina  </td><td>2          </td><td> 1         </td><td>1          </td><td> 1         </td><td> 71        </td><td>1          </td><td> 0         </td><td> 90        </td><td>40.41200   </td><td>-3.706691  </td><td>NA         </td></tr>\n",
       "\t<tr><td>Embajadores</td><td>2          </td><td>NA         </td><td>1          </td><td>NA         </td><td> 34        </td><td>1          </td><td> 6         </td><td> 88        </td><td>40.40809   </td><td>-3.700322  </td><td>NA         </td></tr>\n",
       "\t<tr><td>Embajadores</td><td>3          </td><td> 1         </td><td>0          </td><td> 2         </td><td> 60        </td><td>1          </td><td> 0         </td><td>100        </td><td>40.41085   </td><td>-3.701099  </td><td>NA         </td></tr>\n",
       "</tbody>\n",
       "</table>\n"
      ],
      "text/latex": [
       "\\begin{tabular}{r|llllllllllll}\n",
       " Neighbourhood & Accommodates & Bathrooms & Bedrooms & Beds & Price & Guests.Included & Extra.People & Review.Scores.Rating & Latitude & Longitude & Square.Meters\\\\\n",
       "\\hline\n",
       "\t Palacio     & 2           &  1          & 1           &  1          &  85         & 1           &  0          &  95         & 40.41697    & -3.709439   & NA         \\\\\n",
       "\t MalasaÃ±a   & 4           &  1          & 1           &  2          & 112         & 2           &  5          &  99         & 40.42319    & -3.711249   & NA         \\\\\n",
       "\t Palacio     & 8           &  3          & 3           &  4          & 190         & 6           & 40          &  96         & 40.41651    & -3.717843   & NA         \\\\\n",
       "\t La Latina   & 2           &  1          & 1           &  1          &  71         & 1           &  0          &  90         & 40.41200    & -3.706691   & NA         \\\\\n",
       "\t Embajadores & 2           & NA          & 1           & NA          &  34         & 1           &  6          &  88         & 40.40809    & -3.700322   & NA         \\\\\n",
       "\t Embajadores & 3           &  1          & 0           &  2          &  60         & 1           &  0          & 100         & 40.41085    & -3.701099   & NA         \\\\\n",
       "\\end{tabular}\n"
      ],
      "text/markdown": [
       "\n",
       "| Neighbourhood | Accommodates | Bathrooms | Bedrooms | Beds | Price | Guests.Included | Extra.People | Review.Scores.Rating | Latitude | Longitude | Square.Meters |\n",
       "|---|---|---|---|---|---|---|---|---|---|---|---|\n",
       "| Palacio     | 2           |  1          | 1           |  1          |  85         | 1           |  0          |  95         | 40.41697    | -3.709439   | NA          |\n",
       "| MalasaÃ±a   | 4           |  1          | 1           |  2          | 112         | 2           |  5          |  99         | 40.42319    | -3.711249   | NA          |\n",
       "| Palacio     | 8           |  3          | 3           |  4          | 190         | 6           | 40          |  96         | 40.41651    | -3.717843   | NA          |\n",
       "| La Latina   | 2           |  1          | 1           |  1          |  71         | 1           |  0          |  90         | 40.41200    | -3.706691   | NA          |\n",
       "| Embajadores | 2           | NA          | 1           | NA          |  34         | 1           |  6          |  88         | 40.40809    | -3.700322   | NA          |\n",
       "| Embajadores | 3           |  1          | 0           |  2          |  60         | 1           |  0          | 100         | 40.41085    | -3.701099   | NA          |\n",
       "\n"
      ],
      "text/plain": [
       "  Neighbourhood Accommodates Bathrooms Bedrooms Beds Price Guests.Included\n",
       "1 Palacio       2             1        1         1    85   1              \n",
       "2 MalasaÃ±a     4             1        1         2   112   2              \n",
       "3 Palacio       8             3        3         4   190   6              \n",
       "4 La Latina     2             1        1         1    71   1              \n",
       "5 Embajadores   2            NA        1        NA    34   1              \n",
       "6 Embajadores   3             1        0         2    60   1              \n",
       "  Extra.People Review.Scores.Rating Latitude Longitude Square.Meters\n",
       "1  0            95                  40.41697 -3.709439 NA           \n",
       "2  5            99                  40.42319 -3.711249 NA           \n",
       "3 40            96                  40.41651 -3.717843 NA           \n",
       "4  0            90                  40.41200 -3.706691 NA           \n",
       "5  6            88                  40.40809 -3.700322 NA           \n",
       "6  0           100                  40.41085 -3.701099 NA           "
      ]
     },
     "metadata": {},
     "output_type": "display_data"
    },
    {
     "data": {
      "text/plain": [
       "     Neighbourhood   Accommodates      Bathrooms        Bedrooms    \n",
       " MalasaÃ±a  : 679   Min.   : 1.000   Min.   :0.000   Min.   : 0.00  \n",
       " Embajadores: 585   1st Qu.: 3.000   1st Qu.:1.000   1st Qu.: 1.00  \n",
       " La Latina  : 571   Median : 4.000   Median :1.000   Median : 1.00  \n",
       " Sol        : 536   Mean   : 4.082   Mean   :1.242   Mean   : 1.42  \n",
       " Cortes     : 441   3rd Qu.: 5.000   3rd Qu.:1.000   3rd Qu.: 2.00  \n",
       " Justicia   : 384   Max.   :16.000   Max.   :6.000   Max.   :10.00  \n",
       " (Other)    :1788                    NA's   :14      NA's   :7      \n",
       "      Beds           Price        Guests.Included   Extra.People    \n",
       " Min.   : 1.00   Min.   : 14.00   Min.   : 1.000   Min.   :  0.000  \n",
       " 1st Qu.: 1.00   1st Qu.: 58.00   1st Qu.: 1.000   1st Qu.:  0.000  \n",
       " Median : 2.00   Median : 75.00   Median : 2.000   Median : 10.000  \n",
       " Mean   : 2.36   Mean   : 89.84   Mean   : 1.951   Mean   :  8.981  \n",
       " 3rd Qu.: 3.00   3rd Qu.:100.00   3rd Qu.: 2.000   3rd Qu.: 15.000  \n",
       " Max.   :16.00   Max.   :800.00   Max.   :15.000   Max.   :276.000  \n",
       " NA's   :8       NA's   :5                                          \n",
       " Review.Scores.Rating    Latitude       Longitude      Square.Meters   \n",
       " Min.   : 20.00       Min.   :40.36   Min.   :-3.761   Min.   : 22.02  \n",
       " 1st Qu.: 88.00       1st Qu.:40.41   1st Qu.:-3.707   1st Qu.: 44.97  \n",
       " Median : 93.00       Median :40.42   Median :-3.702   Median : 60.02  \n",
       " Mean   : 91.36       Mean   :40.42   Mean   :-3.700   Mean   : 70.91  \n",
       " 3rd Qu.: 97.00       3rd Qu.:40.42   3rd Qu.:-3.697   3rd Qu.: 79.99  \n",
       " Max.   :100.00       Max.   :40.48   Max.   :-3.576   Max.   :480.03  \n",
       " NA's   :714                                           NA's   :4810    "
      ]
     },
     "metadata": {},
     "output_type": "display_data"
    }
   ],
   "source": [
    "head(df_madrid)\n",
    "summary(df_madrid, n=15)"
   ]
  },
  {
   "cell_type": "markdown",
   "metadata": {},
   "source": [
    "El barrio parece ser un indicador importante para los metros cuadrados de un apartamento.\n",
    "\n",
    "Vamos a agrupar los barrios por metros cuadrados. Podemos usar una matriz de similaridad de Tukey tal y como hicimos en el curso de estadística:"
   ]
  },
  {
   "cell_type": "code",
   "execution_count": 21,
   "metadata": {},
   "outputs": [
    {
     "name": "stderr",
     "output_type": "stream",
     "text": [
      "Warning message in resm[lower.tri(resm)] <- round(tky.result$p.adj, 4):\n",
      "\"número de items para para sustituir no es un múltiplo de la longitud del reemplazo\"\n",
      "Attaching package: 'reshape2'\n",
      "\n",
      "The following object is masked from 'package:tidyr':\n",
      "\n",
      "    smiths\n",
      "\n"
     ]
    },
    {
     "data": {
      "image/png": "[encoded data removed]",
      "text/plain": [
       "plot without title"
      ]
     },
     "metadata": {},
     "output_type": "display_data"
    }
   ],
   "source": [
    "tky<-TukeyHSD(aov( formula=Square.Meters~Neighbourhood, data=df_madrid ))\n",
    "tky.result<-data.frame(tky$Neighbourhood)\n",
    "cn <-sort(unique(df_madrid$Neighbourhood))\n",
    "resm <- matrix(NA, length(cn),length(cn))\n",
    "rownames(resm) <- cn\n",
    "colnames(resm) <- cn\n",
    "resm[lower.tri(resm) ] <- round(tky.result$p.adj,4)\n",
    "resm[upper.tri(resm) ] <- t(resm)[upper.tri(resm)] \n",
    "diag(resm) <- 1\n",
    "library(ggplot2)\n",
    "library(reshape2)\n",
    "dfResm <- melt(resm)\n",
    "ggplot(dfResm, aes(x=Var1, y=Var2, fill=value))+\n",
    "  geom_tile(colour = \"black\")+\n",
    "  scale_fill_gradient(low = \"white\",high = \"steelblue\")+\n",
    "  ylab(\"Class\")+xlab(\"Class\")+theme_bw()+\n",
    "  theme(axis.text.x = element_text(angle = 90, hjust = 1),legend.position=\"none\")"
   ]
  },
  {
   "cell_type": "markdown",
   "metadata": {},
   "source": [
    "Usando como variable de distancia: 1-resm\n",
    "Dibuja un dendrograma de los diferentes barrios.\n"
   ]
  },
  {
   "cell_type": "code",
   "execution_count": 46,
   "metadata": {},
   "outputs": [
    {
     "data": {
      "image/png": "[encoded data removed]",
      "text/plain": [
       "plot without title"
      ]
     },
     "metadata": {},
     "output_type": "display_data"
    }
   ],
   "source": [
    "d <- dist(as.matrix(1-resm),method = \"euclidean\")\n",
    "hc <- hclust(d,method=\"complete\")\n",
    "hcd <- as.dendrogram(hc)\n",
    "par(cex=0.3)\n",
    "plot(hcd)"
   ]
  },
  {
   "cell_type": "code",
   "execution_count": null,
   "metadata": {},
   "outputs": [],
   "source": []
  },
  {
   "cell_type": "markdown",
   "metadata": {},
   "source": [
    "¿Que punto de corte sería el aconsejable?, ¿cuantos clusters aparecen?"
   ]
  },
  {
   "cell_type": "code",
   "execution_count": 47,
   "metadata": {},
   "outputs": [
    {
     "data": {
      "image/png": "[encoded data removed]",
      "text/plain": [
       "Plot with title \"Corte\""
      ]
     },
     "metadata": {},
     "output_type": "display_data"
    }
   ],
   "source": [
    "plot(cut(hcd, h = 2.5)$upper, main = \"Corte\", cex=1)"
   ]
  },
  {
   "cell_type": "markdown",
   "metadata": {},
   "source": [
    "Vamos a crear una nueva columna en el dataframe df_madrid con un nuevo identificador marcado por los clusters obtenidos. Esta columna la llamaremos neighb_id"
   ]
  },
  {
   "cell_type": "code",
   "execution_count": 48,
   "metadata": {},
   "outputs": [],
   "source": [
    "treecuts <- cutree(hc,h=2.5)"
   ]
  },
  {
   "cell_type": "code",
   "execution_count": 49,
   "metadata": {},
   "outputs": [],
   "source": [
    "df_treecuts <- as.data.frame(treecuts, col.names = names(c(\"Neighbourhood\", \"nighb_id\")))\n",
    "df_treecuts <- cbind(Neighbourhood = rownames (df_treecuts),df_treecuts)\n",
    "rownames(df_treecuts) <- NULL\n",
    "colnames (df_treecuts)[2] <- \"neighb_id\"\n"
   ]
  },
  {
   "cell_type": "code",
   "execution_count": 50,
   "metadata": {},
   "outputs": [],
   "source": [
    "df_madrid_2 <- merge (df_treecuts, df_madrid, by = \"Neighbourhood\")"
   ]
  },
  {
   "cell_type": "markdown",
   "metadata": {},
   "source": [
    "Vamos a crear dos grupos, uno test y otro train.\n",
    "\n",
    "Tratamos de predecir los metros cuadrados en función del resto de columnas del dataframe."
   ]
  },
  {
   "cell_type": "code",
   "execution_count": 51,
   "metadata": {},
   "outputs": [
    {
     "data": {
      "text/plain": [
       "\n",
       "   1    2    3    4    5 \n",
       " 716 2325 1709  224   10 "
      ]
     },
     "metadata": {},
     "output_type": "display_data"
    }
   ],
   "source": [
    "table(df_madrid_2$neighb_id)\n"
   ]
  },
  {
   "cell_type": "code",
   "execution_count": 52,
   "metadata": {},
   "outputs": [],
   "source": []
  },
  {
   "cell_type": "code",
   "execution_count": 53,
   "metadata": {
    "scrolled": true
   },
   "outputs": [
    {
     "data": {
      "text/plain": [
       "\n",
       "Call:\n",
       "lm(formula = Square.Meters ~ Accommodates + Bathrooms + Bedrooms + \n",
       "    Beds + Guests.Included + Review.Scores.Rating, data = df_train)\n",
       "\n",
       "Coefficients:\n",
       "         (Intercept)          Accommodates             Bathrooms  \n",
       "             -49.326                 4.228                37.069  \n",
       "            Bedrooms                  Beds       Guests.Included  \n",
       "               8.380                 6.766                -9.809  \n",
       "Review.Scores.Rating  \n",
       "               0.450  \n"
      ]
     },
     "metadata": {},
     "output_type": "display_data"
    }
   ],
   "source": [
    "library(MASS)\n",
    "model <- lm(Square.Meters~Price+neighb_id+Accommodates+Bathrooms+Bedrooms+Beds+Guests.Included+Extra.People+\n",
    "            Review.Scores.Rating+Latitude+Longitude,data=df_madrid_2)\n",
    "stepAIC(model,trace=FALSE)\n",
    "model_opt <- lm(formula = Square.Meters ~ Accommodates + Bathrooms + Bedrooms + \n",
    "    Beds + Guests.Included + Review.Scores.Rating, data = df_madrid_2)\n",
    "\n",
    "#options(repr.plot.height=4,repr.plot.width=6,repr.plot.res = 200)\n",
    "\n",
    "#n<-100\n",
    "#x<-seq(-5,5,length.out = n)\n",
    "#df<-data.frame(x,y = 20*x+1+rnorm(n,mean=1,sd=10))\n",
    "#model <- lm(Square.Meters~Price,data=df_madrid_merge)\n",
    "#plot(df_train$x,df_train$y)\n",
    "#lines(df_madrid_merge$x,predict(model,df_madrid_merge),col=\"red\")\n",
    "#grid()"
   ]
  },
  {
   "cell_type": "code",
   "execution_count": 73,
   "metadata": {},
   "outputs": [
    {
     "data": {
      "text/plain": [
       "\n",
       "Call:\n",
       "lm(formula = Square.Meters ~ Accommodates + Bathrooms + Bedrooms + \n",
       "    Beds + Guests.Included + Review.Scores.Rating, data = df_train)\n",
       "\n",
       "Coefficients:\n",
       "         (Intercept)          Accommodates             Bathrooms  \n",
       "             -49.326                 4.228                37.069  \n",
       "            Bedrooms                  Beds       Guests.Included  \n",
       "               8.380                 6.766                -9.809  \n",
       "Review.Scores.Rating  \n",
       "               0.450  \n"
      ]
     },
     "metadata": {},
     "output_type": "display_data"
    }
   ],
   "source": [
    "model_opt"
   ]
  },
  {
   "cell_type": "code",
   "execution_count": 80,
   "metadata": {},
   "outputs": [],
   "source": [
    "prediction<-predict(model_opt,df_test)"
   ]
  },
  {
   "cell_type": "code",
   "execution_count": null,
   "metadata": {},
   "outputs": [],
   "source": [
    "confusionMatrix(prediction, df_train)"
   ]
  },
  {
   "cell_type": "markdown",
   "metadata": {},
   "source": [
    "Mirad el histograma de los residuos sobre el conjunto de test para evaluar la calidad de vuestro modelo"
   ]
  },
  {
   "cell_type": "code",
   "execution_count": 78,
   "metadata": {},
   "outputs": [
    {
     "data": {
      "text/html": [
       "'list'"
      ],
      "text/latex": [
       "'list'"
      ],
      "text/markdown": [
       "'list'"
      ],
      "text/plain": [
       "[1] \"list\""
      ]
     },
     "metadata": {},
     "output_type": "display_data"
    },
    {
     "data": {
      "text/plain": [
       "geom_bar: na.rm = FALSE\n",
       "stat_bin: binwidth = NULL, bins = 20, na.rm = FALSE, pad = FALSE\n",
       "position_stack "
      ]
     },
     "metadata": {},
     "output_type": "display_data"
    },
    {
     "data": {
      "text/plain": [
       "$x\n",
       "[1] \"Residuals\"\n",
       "\n",
       "$y\n",
       "[1] \"Frequency\"\n",
       "\n",
       "$title\n",
       "[1] \"Histogram of Residuals\"\n",
       "\n",
       "attr(,\"class\")\n",
       "[1] \"labels\""
      ]
     },
     "metadata": {},
     "output_type": "display_data"
    },
    {
     "data": {
      "image/png": "[encoded data removed]",
      "text/plain": [
       "plot without title"
      ]
     },
     "metadata": {},
     "output_type": "display_data"
    }
   ],
   "source": [
    "typeof(data.frame(model_opt$residuals))\n",
    "ggplot(data = data.frame(model_opt$residuals), aes(x = model_opt$residuals)) \n",
    "    geom_histogram(bins = 20, fill = 'steelblue', color = 'black')\n",
    "    labs(title = 'Histogram of Residuals', x = 'Residuals', y = 'Frequency')"
   ]
  },
  {
   "cell_type": "code",
   "execution_count": null,
   "metadata": {},
   "outputs": [],
   "source": []
  },
  {
   "cell_type": "markdown",
   "metadata": {},
   "source": [
    "Si tuvieramos un anuncio de un apartamento para 6 personas (Accommodates) con un precio de 80€/noche y 3 habitaciones en el barrio de Sol.\n",
    "¿Cuantos metros cuadrados tendría?\n",
    "¿Como varía sus metros cuadrados con cada habitación adicional?"
   ]
  },
  {
   "cell_type": "code",
   "execution_count": null,
   "metadata": {},
   "outputs": [],
   "source": []
  },
  {
   "cell_type": "code",
   "execution_count": null,
   "metadata": {},
   "outputs": [],
   "source": []
  },
  {
   "cell_type": "markdown",
   "metadata": {},
   "source": [
    "Rellenar los Square.Meters con valor NA con el estimado con el modelo anterior."
   ]
  },
  {
   "cell_type": "code",
   "execution_count": null,
   "metadata": {},
   "outputs": [],
   "source": []
  },
  {
   "cell_type": "markdown",
   "metadata": {},
   "source": [
    "Usar PCA para encontrar el apartamento más cercano a uno dado.\n",
    "\n",
    "Este algoritmo nos ayudaría a dado un apartamento que el algoritmo nos devolvería los 5 apartamentos más similares.\n",
    "\n",
    "\n",
    "Crearemos una función tal que le pasemos un apartamento con los siguientes datos:\n",
    "* Accommodates\t\n",
    "* Bathrooms\t\n",
    "* Bedrooms\t\n",
    "* Beds\t\n",
    "* Price\t\n",
    "* Guests.Included\t\n",
    "* Extra.People\t\n",
    "* Review.Scores.Rating\t\n",
    "* Latitude\t\n",
    "* Longitude\t\n",
    "* Square.Meters\n",
    "\n",
    "y nos devuelva los 5 más similares de:"
   ]
  },
  {
   "cell_type": "code",
   "execution_count": null,
   "metadata": {},
   "outputs": [],
   "source": [
    "df_PCA = na.omit(df_madrid)\n",
    "summary(df_PCA)"
   ]
  },
  {
   "cell_type": "code",
   "execution_count": null,
   "metadata": {},
   "outputs": [],
   "source": [
    "set.seed(1)\n",
    "idx<-sample(1:nrow(df_madrid_2),0.7*nrow(df_madrid_2),)\n",
    "df_train <-df_madrid_2[idx,]\n",
    "df_test <-df_madrid_2[-idx,]"
   ]
  },
  {
   "cell_type": "code",
   "execution_count": null,
   "metadata": {},
   "outputs": [],
   "source": []
  },
  {
   "cell_type": "code",
   "execution_count": null,
   "metadata": {},
   "outputs": [],
   "source": []
  },
  {
   "cell_type": "code",
   "execution_count": null,
   "metadata": {},
   "outputs": [],
   "source": []
  },
  {
   "cell_type": "markdown",
   "metadata": {},
   "source": [
    "Bonus: ¿de todas las coordenadas PCA cual es la que mejor permite clasificar por id de barrio?\n",
    "\n",
    "¿Por qué?"
   ]
  },
  {
   "cell_type": "code",
   "execution_count": null,
   "metadata": {},
   "outputs": [],
   "source": []
  },
  {
   "cell_type": "code",
   "execution_count": null,
   "metadata": {},
   "outputs": [],
   "source": []
  },
  {
   "cell_type": "code",
   "execution_count": null,
   "metadata": {},
   "outputs": [],
   "source": []
  },
  {
   "cell_type": "code",
   "execution_count": null,
   "metadata": {},
   "outputs": [],
   "source": []
  },
  {
   "cell_type": "code",
   "execution_count": null,
   "metadata": {},
   "outputs": [],
   "source": []
  }
 ],
 "metadata": {
  "kernelspec": {
   "display_name": "R",
   "language": "R",
   "name": "ir"
  },
  "language_info": {
   "codemirror_mode": "r",
   "file_extension": ".r",
   "mimetype": "text/x-r-source",
   "name": "R",
   "pygments_lexer": "r",
   "version": "3.6.1"
  }
 },
 "nbformat": 4,
 "nbformat_minor": 2
}
